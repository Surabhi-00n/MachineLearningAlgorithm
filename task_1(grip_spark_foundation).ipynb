{
  "nbformat": 4,
  "nbformat_minor": 0,
  "metadata": {
    "colab": {
      "name": "task_1(grip spark foundation).ipynb",
      "provenance": [],
      "collapsed_sections": []
    },
    "kernelspec": {
      "name": "python3",
      "display_name": "Python 3"
    },
    "language_info": {
      "name": "python"
    }
  },
  "cells": [
    {
      "cell_type": "markdown",
      "metadata": {
        "id": "x7jwcLPqEnXq"
      },
      "source": [
        "# **1**.**Data Transformation**"
      ]
    },
    {
      "cell_type": "code",
      "metadata": {
        "id": "VUHKU6tME15L"
      },
      "source": [
        "#Importing all the libraries\n",
        "import pandas as pd\n",
        "import numpy as np\n",
        "import matplotlib.pyplot as plt\n",
        "from sklearn.linear_model import LinearRegression\n",
        "from sklearn.model_selection import train_test_split\n",
        "from sklearn import metrics"
      ],
      "execution_count": 13,
      "outputs": []
    },
    {
      "cell_type": "code",
      "metadata": {
        "colab": {
          "base_uri": "https://localhost:8080/"
        },
        "id": "4x4-ivg9E8Fk",
        "outputId": "acbf1ebe-d849-4dcf-e61f-79b03a2aaa56"
      },
      "source": [
        "#Read the data \n",
        "data = pd.read_csv(\"/content/task_1.csv\")\n",
        "print (data.head())"
      ],
      "execution_count": 3,
      "outputs": [
        {
          "output_type": "stream",
          "text": [
            "   Hours  Scores\n",
            "0    2.5      21\n",
            "1    5.1      47\n",
            "2    3.2      27\n",
            "3    8.5      75\n",
            "4    3.5      30\n"
          ],
          "name": "stdout"
        }
      ]
    },
    {
      "cell_type": "code",
      "metadata": {
        "colab": {
          "base_uri": "https://localhost:8080/"
        },
        "id": "Q34bp7rOFGo0",
        "outputId": "379c5ed9-259a-49e1-89e4-2ac4f2903a97"
      },
      "source": [
        "print(data.shape)"
      ],
      "execution_count": 4,
      "outputs": [
        {
          "output_type": "stream",
          "text": [
            "(25, 2)\n"
          ],
          "name": "stdout"
        }
      ]
    },
    {
      "cell_type": "code",
      "metadata": {
        "colab": {
          "base_uri": "https://localhost:8080/"
        },
        "id": "v_mTwV-FFK4B",
        "outputId": "6a33e79c-069a-41fc-c787-72fd0866e35a"
      },
      "source": [
        "print(data.describe())"
      ],
      "execution_count": 5,
      "outputs": [
        {
          "output_type": "stream",
          "text": [
            "           Hours     Scores\n",
            "count  25.000000  25.000000\n",
            "mean    5.012000  51.480000\n",
            "std     2.525094  25.286887\n",
            "min     1.100000  17.000000\n",
            "25%     2.700000  30.000000\n",
            "50%     4.800000  47.000000\n",
            "75%     7.400000  75.000000\n",
            "max     9.200000  95.000000\n"
          ],
          "name": "stdout"
        }
      ]
    },
    {
      "cell_type": "code",
      "metadata": {
        "colab": {
          "base_uri": "https://localhost:8080/"
        },
        "id": "llm9qsfUFPIB",
        "outputId": "55e788b5-4b42-4589-b507-d383928f2014"
      },
      "source": [
        "print(data.info())"
      ],
      "execution_count": 6,
      "outputs": [
        {
          "output_type": "stream",
          "text": [
            "<class 'pandas.core.frame.DataFrame'>\n",
            "RangeIndex: 25 entries, 0 to 24\n",
            "Data columns (total 2 columns):\n",
            " #   Column  Non-Null Count  Dtype  \n",
            "---  ------  --------------  -----  \n",
            " 0   Hours   25 non-null     float64\n",
            " 1   Scores  25 non-null     int64  \n",
            "dtypes: float64(1), int64(1)\n",
            "memory usage: 528.0 bytes\n",
            "None\n"
          ],
          "name": "stdout"
        }
      ]
    },
    {
      "cell_type": "code",
      "metadata": {
        "colab": {
          "base_uri": "https://localhost:8080/"
        },
        "id": "r5_QDu-2FUKL",
        "outputId": "3bfd0d83-5f38-430a-f86e-d981d5b74bd8"
      },
      "source": [
        "#Checking for missing values\n",
        "print(data.isnull().sum())"
      ],
      "execution_count": 7,
      "outputs": [
        {
          "output_type": "stream",
          "text": [
            "Hours     0\n",
            "Scores    0\n",
            "dtype: int64\n"
          ],
          "name": "stdout"
        }
      ]
    },
    {
      "cell_type": "markdown",
      "metadata": {
        "id": "yuQBly3CFgQa"
      },
      "source": [
        "Since, there is no null value present in the given dataset. No data cleaning is required.\n",
        "\n"
      ]
    },
    {
      "cell_type": "markdown",
      "metadata": {
        "id": "6OtSnG7RFmx4"
      },
      "source": [
        "# **2**.**Data Visualisation**"
      ]
    },
    {
      "cell_type": "code",
      "metadata": {
        "colab": {
          "base_uri": "https://localhost:8080/",
          "height": 296
        },
        "id": "64-AgMXkGDLA",
        "outputId": "7365dbbe-8d61-4b84-d90e-ea1056f2c471"
      },
      "source": [
        "#Scatter plot of hours vs scores\n",
        "plt.scatter(data.Hours,data.Scores,label='Scores',color='orange')\n",
        "plt.title(\"Graph - Study hours VS Score of students\")\n",
        "plt.xlabel(\"Hours_Studied\")\n",
        "plt.ylabel(\"Scores_gained(%)\")\n",
        "plt.legend()\n",
        "plt.show()"
      ],
      "execution_count": 14,
      "outputs": [
        {
          "output_type": "display_data",
          "data": {
            "image/png": "[encoded data removed]",
            "text/plain": [
              "<Figure size 432x288 with 1 Axes>"
            ]
          },
          "metadata": {
            "tags": [],
            "needs_background": "light"
          }
        }
      ]
    },
    {
      "cell_type": "markdown",
      "metadata": {
        "id": "2jfrkuxhGV2O"
      },
      "source": [
        "From the above graph, we can conclude that study hours and \"student score have a positive linear relationship. Lets plot linear regression model to analyse to reach a proper conclusion of given \"query\""
      ]
    },
    {
      "cell_type": "markdown",
      "metadata": {
        "id": "nE2uGihXGcjd"
      },
      "source": [
        "# **3**.**Linear Regression model**"
      ]
    },
    {
      "cell_type": "code",
      "metadata": {
        "id": "bfN12tVrGpbl"
      },
      "source": [
        "x = data[['Hours']]\n",
        "y = data['Scores']"
      ],
      "execution_count": 15,
      "outputs": []
    },
    {
      "cell_type": "markdown",
      "metadata": {
        "id": "7yR0RnumGyZ7"
      },
      "source": [
        "Now, we split our Dataset into Train and Test Data. We will use Train Dataset to build the Model and Test Dataset to predict Dataset using the Model."
      ]
    },
    {
      "cell_type": "code",
      "metadata": {
        "id": "Jb8SbX87G0gy"
      },
      "source": [
        "x_train, x_test, y_train, y_test = train_test_split(x, y, test_size = 0.2, random_state = 50)"
      ],
      "execution_count": 16,
      "outputs": []
    },
    {
      "cell_type": "code",
      "metadata": {
        "colab": {
          "base_uri": "https://localhost:8080/"
        },
        "id": "PyeDmu6MG6SM",
        "outputId": "14c437e7-e588-46b3-bfa3-046cc00a9391"
      },
      "source": [
        "Model = LinearRegression()\n",
        "Model.fit(x_train,y_train)\n"
      ],
      "execution_count": 17,
      "outputs": [
        {
          "output_type": "execute_result",
          "data": {
            "text/plain": [
              "LinearRegression(copy_X=True, fit_intercept=True, n_jobs=None, normalize=False)"
            ]
          },
          "metadata": {
            "tags": []
          },
          "execution_count": 17
        }
      ]
    },
    {
      "cell_type": "code",
      "metadata": {
        "colab": {
          "base_uri": "https://localhost:8080/"
        },
        "id": "n6j_TRCdG__R",
        "outputId": "4b711ac3-a401-42f8-e22d-5e0e732c750f"
      },
      "source": [
        "# the value of Intercept and Coefficient\n",
        "print(\"Intercept :\", Model.intercept_)\n",
        "print(\"Coefficient of the Independent Variable :\", Model.coef_)"
      ],
      "execution_count": 18,
      "outputs": [
        {
          "output_type": "stream",
          "text": [
            "Intercept : 2.810236462826552\n",
            "Coefficient of the Independent Variable : [9.59563563]\n"
          ],
          "name": "stdout"
        }
      ]
    },
    {
      "cell_type": "code",
      "metadata": {
        "colab": {
          "base_uri": "https://localhost:8080/",
          "height": 296
        },
        "id": "ZCbwXtAmHFwU",
        "outputId": "37c37ffd-a16a-4df1-e6d2-796625058885"
      },
      "source": [
        "# Fit Regression Line\n",
        "line = Model.intercept_ + Model.coef_*x\n",
        "\n",
        "#Visualize Regression Line\n",
        "plt.scatter(data.Hours,data.Scores,label='Score',color='blue')\n",
        "plt.title(\"Graph - Study Hours Vs score of Students \")\n",
        "plt.xlabel(\"Hours_Studied\")\n",
        "plt.ylabel(\"Scores_gained(%)\")\n",
        "plt.plot(x,line, color = \"red\", label = \"Linear Regression Line\")\n",
        "plt.legend()\n",
        "plt.show()"
      ],
      "execution_count": 19,
      "outputs": [
        {
          "output_type": "display_data",
          "data": {
            "image/png": "[encoded data removed]",
            "text/plain": [
              "<Figure size 432x288 with 1 Axes>"
            ]
          },
          "metadata": {
            "tags": [],
            "needs_background": "light"
          }
        }
      ]
    },
    {
      "cell_type": "markdown",
      "metadata": {
        "id": "5g0dptKbHRE3"
      },
      "source": [
        "# **4**.**Prediction using our model**"
      ]
    },
    {
      "cell_type": "code",
      "metadata": {
        "id": "aI-drP9SHbP0"
      },
      "source": [
        "y_pred = Model.predict(x_test)"
      ],
      "execution_count": 20,
      "outputs": []
    },
    {
      "cell_type": "code",
      "metadata": {
        "colab": {
          "base_uri": "https://localhost:8080/",
          "height": 204
        },
        "id": "0YdJERosHilG",
        "outputId": "396a91f8-5a33-4cb7-d67f-10b9418b88c9"
      },
      "source": [
        "df = pd.DataFrame({\"observed\":y_test,\"Predicted\": y_pred})\n",
        "df"
      ],
      "execution_count": 21,
      "outputs": [
        {
          "output_type": "execute_result",
          "data": {
            "text/html": [
              "<div>\n",
              "<style scoped>\n",
              "    .dataframe tbody tr th:only-of-type {\n",
              "        vertical-align: middle;\n",
              "    }\n",
              "\n",
              "    .dataframe tbody tr th {\n",
              "        vertical-align: top;\n",
              "    }\n",
              "\n",
              "    .dataframe thead th {\n",
              "        text-align: right;\n",
              "    }\n",
              "</style>\n",
              "<table border=\"1\" class=\"dataframe\">\n",
              "  <thead>\n",
              "    <tr style=\"text-align: right;\">\n",
              "      <th></th>\n",
              "      <th>observed</th>\n",
              "      <th>Predicted</th>\n",
              "    </tr>\n",
              "  </thead>\n",
              "  <tbody>\n",
              "    <tr>\n",
              "      <th>15</th>\n",
              "      <td>95</td>\n",
              "      <td>88.211394</td>\n",
              "    </tr>\n",
              "    <tr>\n",
              "      <th>20</th>\n",
              "      <td>30</td>\n",
              "      <td>28.718453</td>\n",
              "    </tr>\n",
              "    <tr>\n",
              "      <th>23</th>\n",
              "      <td>76</td>\n",
              "      <td>69.020122</td>\n",
              "    </tr>\n",
              "    <tr>\n",
              "      <th>22</th>\n",
              "      <td>35</td>\n",
              "      <td>39.273652</td>\n",
              "    </tr>\n",
              "    <tr>\n",
              "      <th>14</th>\n",
              "      <td>17</td>\n",
              "      <td>13.365436</td>\n",
              "    </tr>\n",
              "  </tbody>\n",
              "</table>\n",
              "</div>"
            ],
            "text/plain": [
              "    observed  Predicted\n",
              "15        95  88.211394\n",
              "20        30  28.718453\n",
              "23        76  69.020122\n",
              "22        35  39.273652\n",
              "14        17  13.365436"
            ]
          },
          "metadata": {
            "tags": []
          },
          "execution_count": 21
        }
      ]
    },
    {
      "cell_type": "code",
      "metadata": {
        "colab": {
          "base_uri": "https://localhost:8080/"
        },
        "id": "X6lUhh1XHpXD",
        "outputId": "b9d19503-be6c-4897-b745-1a7978ddb876"
      },
      "source": [
        "#Calculating Model Accuracy\n",
        "print(\"Training Score :\", Model.score(x_train, y_train))\n",
        "print(\"Testing Score :\", Model.score(x_test, y_test))"
      ],
      "execution_count": 22,
      "outputs": [
        {
          "output_type": "stream",
          "text": [
            "Training Score : 0.9444169959416537\n",
            "Testing Score : 0.9710141413299419\n"
          ],
          "name": "stdout"
        }
      ]
    },
    {
      "cell_type": "code",
      "metadata": {
        "colab": {
          "base_uri": "https://localhost:8080/"
        },
        "id": "Kzwa8s3KH1Q1",
        "outputId": "d920c144-8e73-48d2-a430-a50671f3ecc1"
      },
      "source": [
        "query = 9.25\n",
        "new_pred= Model.predict([[query]])\n",
        "print(\"No. of Hours Studied :\", query)\n",
        "print(\"Predicted Score :\",new_pred[0])"
      ],
      "execution_count": 23,
      "outputs": [
        {
          "output_type": "stream",
          "text": [
            "No. of Hours Studied : 9.25\n",
            "Predicted Score : 91.56986604454478\n"
          ],
          "name": "stdout"
        }
      ]
    },
    {
      "cell_type": "markdown",
      "metadata": {
        "id": "abBa2AqoIP4v"
      },
      "source": [
        "# **Model** **evaluation**"
      ]
    },
    {
      "cell_type": "code",
      "metadata": {
        "colab": {
          "base_uri": "https://localhost:8080/"
        },
        "id": "Es1vLn8QIWw9",
        "outputId": "4e1ffe6d-40e5-41c0-a270-6723dbf7d1ae"
      },
      "source": [
        "#Checking Absolute Error\n",
        "print(\"Mean Absolute Error :\", metrics.mean_absolute_error(y_test, y_pred))\n",
        "print(\"Mean Squared Error :\", metrics.mean_squared_error(y_test, y_pred))\n",
        "print(\"R-2 Score :\", metrics.r2_score(y_test, y_pred))"
      ],
      "execution_count": 24,
      "outputs": [
        {
          "output_type": "stream",
          "text": [
            "Mean Absolute Error : 4.5916495300630285\n",
            "Mean Squared Error : 25.584078296539932\n",
            "R-2 Score : 0.971014141329942\n"
          ],
          "name": "stdout"
        }
      ]
    }
  ]
}